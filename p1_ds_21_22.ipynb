{
  "nbformat": 4,
  "nbformat_minor": 0,
  "metadata": {
    "colab": {
      "name": "p1_ds_21_22.ipynb",
      "provenance": [],
      "collapsed_sections": [],
      "authorship_tag": "ABX9TyOVSOy88Wi05LYeYz5zPM2y"
    },
    "kernelspec": {
      "name": "python3",
      "display_name": "Python 3"
    },
    "language_info": {
      "name": "python"
    }
  },
  "cells": [
    {
      "cell_type": "code",
      "source": [
        "# Create a function that translates emoticons to specific words. Given a sentence as a \n",
        "# string, replace the emoticons ‘:D’, ‘:)’, ‘:(‘ and ‘:P’ into the \n",
        "# words ‘smile’, ‘grin’, ‘sad’ and ‘mad’.\n",
        "\n",
        "def hello(xFrase):\n",
        "      xExpressao = \"\"\n",
        "      xPular = False;\n",
        "      for item in range(0, len(xFrase) , 1):\n",
        "          if xPular:\n",
        "              xPular = False\n",
        "              continue\n",
        "          if (xFrase[item]) == \":\" and  item !=len(xFrase)-1:\n",
        "              if (xFrase[item+1]) == \"D\":\n",
        "                  xExpressao = xExpressao + \"Smile \"\n",
        "              if (xFrase[item+1]) == \")\":\n",
        "                  xExpressao = xExpressao + \"Grin \"\n",
        "              if (xFrase[item+1]) == \"(\":\n",
        "                  xExpressao = xExpressao + \"Sad \"\n",
        "              if (xFrase[item+1]) == \"P\":\n",
        "                  xExpressao = xExpressao + \"Mad \"\n",
        "\n",
        "              xPular = True\n",
        "              continue\n",
        "          xExpressao = xExpressao + xFrase[item]\n",
        "      print(xExpressao)"
      ],
      "metadata": {
        "id": "Xf-DXKwxR483"
      },
      "execution_count": null,
      "outputs": []
    },
    {
      "cell_type": "code",
      "source": [
        "hello(\"Olá,  :P Bom dia :D :D\")"
      ],
      "metadata": {
        "colab": {
          "base_uri": "https://localhost:8080/"
        },
        "id": "dU9FP8vmSSbH",
        "outputId": "98dc942e-1f98-47b3-ce85-dfd4ebfc6700"
      },
      "execution_count": null,
      "outputs": [
        {
          "output_type": "stream",
          "name": "stdout",
          "text": [
            "Olá,  Mad  Bom dia Smile  Smile \n"
          ]
        }
      ]
    },
    {
      "cell_type": "code",
      "source": [
        "# Create a function that takes a string and returns a string in which each character is \n",
        "# repeated once (example: \"String\" ➞ \"SSttrriinngg\")\n",
        "\n",
        "import sys\n",
        "def take(xFrase):\n",
        "      for item in xFrase:\n",
        "        sys.stdout.write(item+item)\n"
      ],
      "metadata": {
        "id": "UVUmLKq2H9VN"
      },
      "execution_count": null,
      "outputs": []
    },
    {
      "cell_type": "code",
      "source": [
        "take(\"String\")"
      ],
      "metadata": {
        "colab": {
          "base_uri": "https://localhost:8080/"
        },
        "id": "pdjTnTabk_9g",
        "outputId": "20d3529a-b4c0-4b65-d9f4-9ab9fdd99867"
      },
      "execution_count": null,
      "outputs": [
        {
          "output_type": "stream",
          "name": "stdout",
          "text": [
            "SSttrriinngg"
          ]
        }
      ]
    },
    {
      "cell_type": "code",
      "source": [
        "#  Create a function that takes two numbers as arguments (num, length) and returns an \n",
        "# array of multiples of num until the array length reaches length (example: (7, 5) ➞\n",
        "# [7, 14, 21, 28, 35].\n",
        "\n",
        "def multiplos(xNum, xTimes):\n",
        "    xMultiplo = xNum\n",
        "    lista = []\n",
        "    for xQtde in range(1, xTimes+1, 1):\n",
        "        lista.append(xMultiplo*xQtde)\n",
        "    print(lista)\n"
      ],
      "metadata": {
        "id": "gGxS89BOnEL8"
      },
      "execution_count": null,
      "outputs": []
    },
    {
      "cell_type": "code",
      "source": [
        "multiplos(7, 5)"
      ],
      "metadata": {
        "colab": {
          "base_uri": "https://localhost:8080/"
        },
        "id": "I8tQONyloA_x",
        "outputId": "a52a8bb9-f514-49de-9926-9b8956ecf18a"
      },
      "execution_count": null,
      "outputs": [
        {
          "output_type": "stream",
          "name": "stdout",
          "text": [
            "[7, 14, 21, 28, 35]\n"
          ]
        }
      ]
    },
    {
      "cell_type": "code",
      "source": [
        "# In mathematics, a matrix (plural matrices) is a rectangular array or table of numbers, symbols, or expressions, arranged in rows and columns. In mathematics, a square matrix is a matrix with the same number of rows and columns. In linear \n",
        "# algebra, the trace of a square matrix A is defined to be the sum of elements on the main diagonal (from the upper left to the lower right).\n",
        "# Example: A= [[0, 1, 0, 0], [1, 1, 1, 1], [0, 1, 0, 1], [0, 1, 1, 5]] =  tr(A)=6\n",
        "#                       [0, 1, 0, 0, 3], [1, 1, 1, 1, 4], [0, 1, 0, 1, 5], [0, 1, 1, 5, 7], [0, 1, 1, 5, 2] = tr(A)=8\n",
        "\n",
        "def calculaTR(matrix):\n",
        "     xResultado = 0\n",
        "     for xCont in range(0, len(matrix), 1):\n",
        "         xResultado = xResultado +  matrix[xCont][xCont]\n",
        "     print(xResultado)                                           \n",
        "\n"
      ],
      "metadata": {
        "id": "cC6uGTv2tZZ8"
      },
      "execution_count": null,
      "outputs": []
    },
    {
      "cell_type": "code",
      "source": [
        "xMatrix = [0, 1, 0, 0, 3], [1, 1, 1, 1, 4], [0, 1, 0, 1, 5], [0, 1, 1, 5, 7], [0, 1, 1, 5, 2]\n",
        "calculaTR(xMatrix)"
      ],
      "metadata": {
        "colab": {
          "base_uri": "https://localhost:8080/"
        },
        "id": "OwIqBgrZuBqH",
        "outputId": "3c049fdb-1abc-4948-9285-faa653c3d22e"
      },
      "execution_count": null,
      "outputs": [
        {
          "output_type": "stream",
          "name": "stdout",
          "text": [
            "8\n"
          ]
        }
      ]
    },
    {
      "cell_type": "code",
      "source": [
        "# In mathematics, primorial, denoted by “#”, is a function from natural numbers to natural numbers similar to the factorial function, but rather than successively \n",
        "# multiplying positive integers, the function only multiplies prime numbers. Create \n",
        "# a function that takes an integer n and returns its primorial. Examples: primordial(2) = 6 (the product of the first two prime numbers)\n",
        "\n",
        "from sympy import *\n",
        "\n",
        "xQtde = 4\n",
        "xproducto = 1\n",
        "xSeq = 1\n",
        "\n",
        "while (1 <= xQtde):\n",
        "   if isprime(xSeq):\n",
        "      xproducto = xproducto * xSeq\n",
        "      xQtde -= 1\n",
        "   xSeq += 1 \n",
        "\n",
        "print(xproducto)\n"
      ],
      "metadata": {
        "id": "7prpVV5PzlqP",
        "colab": {
          "base_uri": "https://localhost:8080/"
        },
        "outputId": "62126e3a-4b4d-4cbd-f53d-95b1095158b9"
      },
      "execution_count": null,
      "outputs": [
        {
          "output_type": "stream",
          "name": "stdout",
          "text": [
            "210\n"
          ]
        }
      ]
    },
    {
      "cell_type": "code",
      "source": [
        "# The number of rabbits banded at a series of sampling sites has been counted and entered into the following list. The first item in each sublist is an alphanumeric \n",
        "# code for the site and the second value is the number of rabbits banded. Cut and paste the list into your assignment and then answer the following questions by \n",
        "# printing them to the screen.\n",
        "\n",
        "# O número de coelhos anilhados em uma série de locais de amostragem foi contado e inserido na lista a seguir. \n",
        "# O primeiro item em cada sublista é um alfanumérico código para o local;\n",
        "# e o segundo valor é o número de coelhos anilhados. \n",
        "# Corte e cole a lista em sua tarefa e, em seguida, responda às seguintes perguntas imprimindo-os na tela.\n",
        "import numpy \n",
        "x = numpy.array([['A1', 28], ['A2', 32], ['A3', 1],   ['A4', 0], ['A5', 10], ['A6', 22], ['A7', 30],  ['A8', 19],   ['B1', 145], \n",
        "                             ['B2', 27], ['B3', 36], ['B4', 25], ['B5', 9], ['B6', 38],  ['B7', 21], ['B8', 12],  ['C1', 122], ['C2', 87], \n",
        "                             ['C3', 36], ['C4', 3],   ['D1', 0],  ['D2', 5], ['D3', 55], ['D4', 62], ['D5', 98], ['D6', 32]])\n"
      ],
      "metadata": {
        "id": "c2b_CaxfPuFn"
      },
      "execution_count": 2,
      "outputs": []
    },
    {
      "cell_type": "code",
      "source": [
        "# a. How many sites are there?\n",
        "print (numpy.alen(x))  # ou podemos utilizar  print(len(x))"
      ],
      "metadata": {
        "colab": {
          "base_uri": "https://localhost:8080/"
        },
        "id": "Qktq61YRWG48",
        "outputId": "739c3469-fd7c-43c9-d334-9b2dd636f05b"
      },
      "execution_count": 3,
      "outputs": [
        {
          "output_type": "stream",
          "name": "stdout",
          "text": [
            "26\n"
          ]
        }
      ]
    },
    {
      "cell_type": "code",
      "source": [
        "#b. How many rabbits were counted at the 7th site?\n",
        "xQual = 7\n",
        "print(x.item((2*(xQual-1))+1))\n"
      ],
      "metadata": {
        "id": "lZpeypk4WJz3",
        "colab": {
          "base_uri": "https://localhost:8080/"
        },
        "outputId": "a6229203-8a1e-49ce-b996-9cc30c778539"
      },
      "execution_count": 27,
      "outputs": [
        {
          "output_type": "stream",
          "name": "stdout",
          "text": [
            "30\n"
          ]
        }
      ]
    },
    {
      "cell_type": "code",
      "source": [
        "#c. How many rabbits were counted at the last site?\n",
        "xQual = len(x)\n",
        "print(x.item((2*(xQual-1))+1))\n"
      ],
      "metadata": {
        "colab": {
          "base_uri": "https://localhost:8080/"
        },
        "id": "4X9CVCSq55f3",
        "outputId": "d093ebbe-2206-4741-c080-53c8103192ee"
      },
      "execution_count": 28,
      "outputs": [
        {
          "output_type": "stream",
          "name": "stdout",
          "text": [
            "32\n"
          ]
        }
      ]
    },
    {
      "cell_type": "code",
      "source": [
        "#d. What is the total number of rabbits counted across all sites?\n",
        "xSoma = 0\n",
        "for xCont in range(0, len(x), 1):\n",
        "    xSoma += int(x.item((2*(xCont))+1))\n",
        "print(xSoma)\n"
      ],
      "metadata": {
        "colab": {
          "base_uri": "https://localhost:8080/"
        },
        "id": "0iYvXtJY6Zhq",
        "outputId": "68ea6105-a445-4dc4-86f3-4c01cf3446fb"
      },
      "execution_count": 39,
      "outputs": [
        {
          "output_type": "stream",
          "name": "stdout",
          "text": [
            "955\n"
          ]
        }
      ]
    },
    {
      "cell_type": "code",
      "source": [
        "#e. What is the average number of rabbits seen on a site?\n",
        "xSoma = 0\n",
        "for xCont in range(0, len(x), 1):\n",
        "    xSoma += int(x.item((2*(xCont))+1))\n",
        "print(xSoma/len(x))\n",
        "\n"
      ],
      "metadata": {
        "colab": {
          "base_uri": "https://localhost:8080/"
        },
        "id": "GN493w9-8paL",
        "outputId": "a8dbd11b-5be4-4052-9980-cae42b204e80"
      },
      "execution_count": 40,
      "outputs": [
        {
          "output_type": "stream",
          "name": "stdout",
          "text": [
            "36.73076923076923\n"
          ]
        }
      ]
    },
    {
      "cell_type": "code",
      "source": [
        "#f. What is the total number of rabbits counted on sites with codes beginning  with ‘C’? \n",
        "\n",
        "xSoma = 0\n",
        "for xCont in range(0, len(x), 1):\n",
        "    if x.item(xCont*2)[0] == 'C':\n",
        "        # print(x.item(xCont*2))\n",
        "        xSoma += int(x.item((2*(xCont))+1))\n",
        "print(xSoma)"
      ],
      "metadata": {
        "colab": {
          "base_uri": "https://localhost:8080/"
        },
        "id": "1Q5gx6jjCCu4",
        "outputId": "133c6130-7451-4143-a62b-5647333628c7"
      },
      "execution_count": 57,
      "outputs": [
        {
          "output_type": "stream",
          "name": "stdout",
          "text": [
            "248\n"
          ]
        }
      ]
    }
  ]
}